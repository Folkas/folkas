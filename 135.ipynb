{
  "nbformat": 4,
  "nbformat_minor": 0,
  "metadata": {
    "kernelspec": {
      "display_name": "Python 3",
      "language": "python",
      "name": "python3"
    },
    "language_info": {
      "codemirror_mode": {
        "name": "ipython",
        "version": 3
      },
      "file_extension": ".py",
      "mimetype": "text/x-python",
      "name": "python",
      "nbconvert_exporter": "python",
      "pygments_lexer": "ipython3",
      "version": "3.7.6"
    },
    "colab": {
      "name": "135.ipynb",
      "provenance": [],
      "include_colab_link": true
    }
  },
  "cells": [
    {
      "cell_type": "markdown",
      "metadata": {
        "id": "view-in-github",
        "colab_type": "text"
      },
      "source": [
        "<a href=\"https://colab.research.google.com/github/Folkas/folkas/blob/gh-pages/135.ipynb\" target=\"_parent\"><img src=\"https://colab.research.google.com/assets/colab-badge.svg\" alt=\"Open In Colab\"/></a>"
      ]
    },
    {
      "cell_type": "markdown",
      "metadata": {
        "id": "O8LxzoD-VrRt"
      },
      "source": [
        "# Module 1: Data Science Fundamentals"
      ]
    },
    {
      "cell_type": "markdown",
      "metadata": {
        "id": "VCEGKdhLVrRt"
      },
      "source": [
        "## Sprint 3: Intro to Modeling"
      ]
    },
    {
      "cell_type": "markdown",
      "metadata": {
        "id": "EK2FkZRgVrRt"
      },
      "source": [
        "## Spotify Challenge"
      ]
    },
    {
      "cell_type": "markdown",
      "metadata": {
        "id": "O7Bi6GAqVrRu"
      },
      "source": [
        "<div><img style=\"width: 100%; \" src=\"https://upload.wikimedia.org/wikipedia/commons/1/14/Iyyaka_Nastain_QR-Code_Spotify_Black.png\" /></div>"
      ]
    },
    {
      "cell_type": "markdown",
      "metadata": {
        "id": "ME9EmcpPVrRu"
      },
      "source": [
        "## Background"
      ]
    },
    {
      "cell_type": "markdown",
      "metadata": {
        "id": "zPjiWapVVrRu"
      },
      "source": [
        "For our sprint's project, we'll analyze top 50 most listened songs in the world on Spotify. The dataset contains several music (sound) variables about the songs, which we'll use to perform modeling with."
      ]
    },
    {
      "cell_type": "markdown",
      "metadata": {
        "id": "A4dhlF_KVrRu"
      },
      "source": [
        "---------"
      ]
    },
    {
      "cell_type": "markdown",
      "metadata": {
        "id": "jMlrs9IdVrRu"
      },
      "source": [
        "## How to start?"
      ]
    },
    {
      "cell_type": "markdown",
      "metadata": {
        "id": "QFmgs--PVrRu"
      },
      "source": [
        "Download the dataset [from Kaggle](https://www.kaggle.com/leonardopena/top50spotify2019) and read it. You should start by performing basic EDA on it. Afterwards, follow the requirements."
      ]
    },
    {
      "cell_type": "code",
      "metadata": {
        "id": "aeL-XkwvWL9r"
      },
      "source": [
        "#importing dataset into colab\n",
        "import pandas as pd\n",
        "import numpy as np\n",
        "import seaborn as sns\n",
        "import matplotlib.pyplot as plt\n",
        "df = pd.read_csv(\"top50.csv\", encoding='latin-1')\n"
      ],
      "execution_count": null,
      "outputs": []
    },
    {
      "cell_type": "markdown",
      "metadata": {
        "id": "5ofQuZftVrRu"
      },
      "source": [
        "## Concepts to explore"
      ]
    },
    {
      "cell_type": "markdown",
      "metadata": {
        "id": "7TQDZYSuVrRu"
      },
      "source": [
        "We will use dimensionality reduction, do some clustering with K-means and perform linear regression."
      ]
    },
    {
      "cell_type": "markdown",
      "metadata": {
        "id": "7roUN2kMVrRu"
      },
      "source": [
        "## Requirements"
      ]
    },
    {
      "cell_type": "markdown",
      "metadata": {
        "id": "1U-yOTAnVrRu"
      },
      "source": [
        "* Perform basic EDA.\n"
      ]
    },
    {
      "cell_type": "code",
      "metadata": {
        "id": "v3QYmvJDdZY3",
        "colab": {
          "base_uri": "https://localhost:8080/"
        },
        "outputId": "3f7ff959-1151-41a0-c046-08b8c23dfdb2"
      },
      "source": [
        "df.shape"
      ],
      "execution_count": null,
      "outputs": [
        {
          "output_type": "execute_result",
          "data": {
            "text/plain": [
              "(50, 14)"
            ]
          },
          "metadata": {
            "tags": []
          },
          "execution_count": 29
        }
      ]
    },
    {
      "cell_type": "code",
      "metadata": {
        "id": "NXNPCjcofQ2W",
        "colab": {
          "base_uri": "https://localhost:8080/",
          "height": 394
        },
        "outputId": "2ff5cd12-1b1e-41c2-83ce-53e3fae120c0"
      },
      "source": [
        "#dropping Unnamed: 0 column (duplicates the index values)\n",
        "df = df.drop(['Unnamed: 0'], axis=1)\n",
        "#changing column names\n",
        "df.columns = [x.lower() for x in df.columns.str.replace(\".\", \"_\").str.replace(\" \", \"_\")]\n",
        "df.head()"
      ],
      "execution_count": null,
      "outputs": [
        {
          "output_type": "execute_result",
          "data": {
            "text/html": [
              "<div>\n",
              "<style scoped>\n",
              "    .dataframe tbody tr th:only-of-type {\n",
              "        vertical-align: middle;\n",
              "    }\n",
              "\n",
              "    .dataframe tbody tr th {\n",
              "        vertical-align: top;\n",
              "    }\n",
              "\n",
              "    .dataframe thead th {\n",
              "        text-align: right;\n",
              "    }\n",
              "</style>\n",
              "<table border=\"1\" class=\"dataframe\">\n",
              "  <thead>\n",
              "    <tr style=\"text-align: right;\">\n",
              "      <th></th>\n",
              "      <th>track_name</th>\n",
              "      <th>artist_name</th>\n",
              "      <th>genre</th>\n",
              "      <th>beats_per_minute</th>\n",
              "      <th>energy</th>\n",
              "      <th>danceability</th>\n",
              "      <th>loudness__db__</th>\n",
              "      <th>liveness</th>\n",
              "      <th>valence_</th>\n",
              "      <th>length_</th>\n",
              "      <th>acousticness__</th>\n",
              "      <th>speechiness_</th>\n",
              "      <th>popularity</th>\n",
              "    </tr>\n",
              "  </thead>\n",
              "  <tbody>\n",
              "    <tr>\n",
              "      <th>0</th>\n",
              "      <td>Señorita</td>\n",
              "      <td>Shawn Mendes</td>\n",
              "      <td>canadian pop</td>\n",
              "      <td>117</td>\n",
              "      <td>55</td>\n",
              "      <td>76</td>\n",
              "      <td>-6</td>\n",
              "      <td>8</td>\n",
              "      <td>75</td>\n",
              "      <td>191</td>\n",
              "      <td>4</td>\n",
              "      <td>3</td>\n",
              "      <td>79</td>\n",
              "    </tr>\n",
              "    <tr>\n",
              "      <th>1</th>\n",
              "      <td>China</td>\n",
              "      <td>Anuel AA</td>\n",
              "      <td>reggaeton flow</td>\n",
              "      <td>105</td>\n",
              "      <td>81</td>\n",
              "      <td>79</td>\n",
              "      <td>-4</td>\n",
              "      <td>8</td>\n",
              "      <td>61</td>\n",
              "      <td>302</td>\n",
              "      <td>8</td>\n",
              "      <td>9</td>\n",
              "      <td>92</td>\n",
              "    </tr>\n",
              "    <tr>\n",
              "      <th>2</th>\n",
              "      <td>boyfriend (with Social House)</td>\n",
              "      <td>Ariana Grande</td>\n",
              "      <td>dance pop</td>\n",
              "      <td>190</td>\n",
              "      <td>80</td>\n",
              "      <td>40</td>\n",
              "      <td>-4</td>\n",
              "      <td>16</td>\n",
              "      <td>70</td>\n",
              "      <td>186</td>\n",
              "      <td>12</td>\n",
              "      <td>46</td>\n",
              "      <td>85</td>\n",
              "    </tr>\n",
              "    <tr>\n",
              "      <th>3</th>\n",
              "      <td>Beautiful People (feat. Khalid)</td>\n",
              "      <td>Ed Sheeran</td>\n",
              "      <td>pop</td>\n",
              "      <td>93</td>\n",
              "      <td>65</td>\n",
              "      <td>64</td>\n",
              "      <td>-8</td>\n",
              "      <td>8</td>\n",
              "      <td>55</td>\n",
              "      <td>198</td>\n",
              "      <td>12</td>\n",
              "      <td>19</td>\n",
              "      <td>86</td>\n",
              "    </tr>\n",
              "    <tr>\n",
              "      <th>4</th>\n",
              "      <td>Goodbyes (Feat. Young Thug)</td>\n",
              "      <td>Post Malone</td>\n",
              "      <td>dfw rap</td>\n",
              "      <td>150</td>\n",
              "      <td>65</td>\n",
              "      <td>58</td>\n",
              "      <td>-4</td>\n",
              "      <td>11</td>\n",
              "      <td>18</td>\n",
              "      <td>175</td>\n",
              "      <td>45</td>\n",
              "      <td>7</td>\n",
              "      <td>94</td>\n",
              "    </tr>\n",
              "  </tbody>\n",
              "</table>\n",
              "</div>"
            ],
            "text/plain": [
              "                        track_name    artist_name  ... speechiness_  popularity\n",
              "0                         Señorita   Shawn Mendes  ...            3          79\n",
              "1                            China       Anuel AA  ...            9          92\n",
              "2    boyfriend (with Social House)  Ariana Grande  ...           46          85\n",
              "3  Beautiful People (feat. Khalid)     Ed Sheeran  ...           19          86\n",
              "4      Goodbyes (Feat. Young Thug)    Post Malone  ...            7          94\n",
              "\n",
              "[5 rows x 13 columns]"
            ]
          },
          "metadata": {
            "tags": []
          },
          "execution_count": 30
        }
      ]
    },
    {
      "cell_type": "code",
      "metadata": {
        "id": "cdEuBFYeeean",
        "colab": {
          "base_uri": "https://localhost:8080/"
        },
        "outputId": "c6b2e20a-b72e-470b-fad7-4fd4a8c94e1e"
      },
      "source": [
        "#checking for null values\n",
        "df.isnull().any()"
      ],
      "execution_count": null,
      "outputs": [
        {
          "output_type": "execute_result",
          "data": {
            "text/plain": [
              "track_name          False\n",
              "artist_name         False\n",
              "genre               False\n",
              "beats_per_minute    False\n",
              "energy              False\n",
              "danceability        False\n",
              "loudness__db__      False\n",
              "liveness            False\n",
              "valence_            False\n",
              "length_             False\n",
              "acousticness__      False\n",
              "speechiness_        False\n",
              "popularity          False\n",
              "dtype: bool"
            ]
          },
          "metadata": {
            "tags": []
          },
          "execution_count": 31
        }
      ]
    },
    {
      "cell_type": "code",
      "metadata": {
        "id": "5kD9O-qFh4nH",
        "colab": {
          "base_uri": "https://localhost:8080/"
        },
        "outputId": "7c471e23-70f2-4747-bfe2-7a572bb0c151"
      },
      "source": [
        "#exploring the dataset\n",
        "df.genre.value_counts()"
      ],
      "execution_count": null,
      "outputs": [
        {
          "output_type": "execute_result",
          "data": {
            "text/plain": [
              "dance pop           8\n",
              "pop                 7\n",
              "latin               5\n",
              "edm                 3\n",
              "canadian hip hop    3\n",
              "reggaeton flow      2\n",
              "brostep             2\n",
              "reggaeton           2\n",
              "electropop          2\n",
              "country rap         2\n",
              "dfw rap             2\n",
              "canadian pop        2\n",
              "panamanian pop      2\n",
              "escape room         1\n",
              "pop house           1\n",
              "r&b en espanol      1\n",
              "boy band            1\n",
              "australian pop      1\n",
              "trap music          1\n",
              "big room            1\n",
              "atl hip hop         1\n",
              "Name: genre, dtype: int64"
            ]
          },
          "metadata": {
            "tags": []
          },
          "execution_count": 32
        }
      ]
    },
    {
      "cell_type": "code",
      "metadata": {
        "id": "gEETlDLcYN_9",
        "colab": {
          "base_uri": "https://localhost:8080/",
          "height": 408
        },
        "outputId": "33b57b7d-66fd-4318-876e-4336ff7579fc"
      },
      "source": [
        "#visualizing correlation among song features using heatmap\n",
        "plt.figure(figsize=(20, 6))\n",
        "sns.heatmap(df.loc[:, \"beats_per_minute\":\"popularity\"].corr(), annot=True).set_title('Correlation Heatmap')"
      ],
      "execution_count": null,
      "outputs": [
        {
          "output_type": "execute_result",
          "data": {
            "text/plain": [
              "Text(0.5, 1.0, 'Correlation Heatmap')"
            ]
          },
          "metadata": {
            "tags": []
          },
          "execution_count": 33
        },
        {
          "output_type": "display_data",
          "data": {
            "image/png": "[encoded data removed]",
            "text/plain": [
              "<Figure size 1440x432 with 2 Axes>"
            ]
          },
          "metadata": {
            "tags": [],
            "needs_background": "light"
          }
        }
      ]
    },
    {
      "cell_type": "markdown",
      "metadata": {
        "id": "JTyinMSfdcYf"
      },
      "source": [
        "* **Perform dimensionality reduction on song features, verify data separability by `Genre` (PCA and/or t-SNE).**"
      ]
    },
    {
      "cell_type": "markdown",
      "metadata": {
        "id": "DqwUh-cO--Jg"
      },
      "source": [
        "#PCA"
      ]
    },
    {
      "cell_type": "code",
      "metadata": {
        "id": "YetKUSJfx1ue"
      },
      "source": [
        "#slicing df dataset so that only columns with song features are left\n",
        "df1 = df.loc[:, \"beats_per_minute\":\"popularity\"]"
      ],
      "execution_count": null,
      "outputs": []
    },
    {
      "cell_type": "code",
      "metadata": {
        "id": "bqZj2qmBduag",
        "colab": {
          "base_uri": "https://localhost:8080/"
        },
        "outputId": "7d7fa95a-0170-4e75-a7f8-276fdb0541d8"
      },
      "source": [
        "#performing dimensionality reduction using PCA\n",
        "from sklearn.decomposition import PCA\n",
        "import matplotlib.pyplot as plt\n",
        "pca = PCA(n_components=2)\n",
        "songs_pca = pca.fit_transform(df1)\n",
        "songs_pca.shape"
      ],
      "execution_count": null,
      "outputs": [
        {
          "output_type": "execute_result",
          "data": {
            "text/plain": [
              "(50, 2)"
            ]
          },
          "metadata": {
            "tags": []
          },
          "execution_count": 35
        }
      ]
    },
    {
      "cell_type": "code",
      "metadata": {
        "colab": {
          "base_uri": "https://localhost:8080/"
        },
        "id": "BCVi9xqQBxtu",
        "outputId": "5de0405a-5a60-415c-8017-925740a836b6"
      },
      "source": [
        "#checking how much initial variance has been preserved\n",
        "pca.explained_variance_ratio_"
      ],
      "execution_count": null,
      "outputs": [
        {
          "output_type": "execute_result",
          "data": {
            "text/plain": [
              "array([0.40236078, 0.24278588, 0.14512957, 0.09203339, 0.04182637,\n",
              "       0.02872418, 0.02434067, 0.01832356, 0.00400847, 0.00046714])"
            ]
          },
          "metadata": {
            "tags": []
          },
          "execution_count": 78
        }
      ]
    },
    {
      "cell_type": "markdown",
      "metadata": {
        "id": "XcMI3Vu_g3jl"
      },
      "source": [
        "By reducing the number of dimensions to 2 for data visualization, I can see that reducing dimensionality preserves **64%** of features' variance. NB: it is recommended to reduce dimensionality so that **95%** of the dataset's variance is preserved. To find the minimum number of principal components preserving 95% of variance, I can use the cumsum formula below and plot it."
      ]
    },
    {
      "cell_type": "code",
      "metadata": {
        "colab": {
          "base_uri": "https://localhost:8080/",
          "height": 601
        },
        "id": "aWlRJT0ZasFg",
        "outputId": "f6280534-0068-479d-ef9b-781106d00656"
      },
      "source": [
        "pca = PCA()\n",
        "pca.fit(df1)\n",
        "cumsum = np.cumsum(pca.explained_variance_ratio_)\n",
        "\n",
        "#plotting the explained variance\n",
        "plt.figure(figsize=(15,8))\n",
        "sns.lineplot(x=range(len(cumsum)), y=cumsum).set_title(\"Explained variance as a function \\nof the number of dimensions\", size=35)\n",
        "plt.xlabel(\"Number of dimensions\", size=25)\n",
        "plt.ylabel(\"Explained variance\", size=25)"
      ],
      "execution_count": null,
      "outputs": [
        {
          "output_type": "execute_result",
          "data": {
            "text/plain": [
              "Text(0, 0.5, 'Explained variance')"
            ]
          },
          "metadata": {
            "tags": []
          },
          "execution_count": 37
        },
        {
          "output_type": "display_data",
          "data": {
            "image/png": "[encoded data removed]",
            "text/plain": [
              "<Figure size 1080x576 with 1 Axes>"
            ]
          },
          "metadata": {
            "tags": [],
            "needs_background": "light"
          }
        }
      ]
    },
    {
      "cell_type": "markdown",
      "metadata": {
        "id": "MuhsmpxML515"
      },
      "source": [
        "As we can see, 95% of variance is preserved when the number of dimensions is 5."
      ]
    },
    {
      "cell_type": "code",
      "metadata": {
        "id": "oB8aoH274qn2",
        "colab": {
          "base_uri": "https://localhost:8080/",
          "height": 583
        },
        "outputId": "ef07053b-903b-42a4-9513-4d1215b89f61"
      },
      "source": [
        "#visualizing dimensionality reduction \n",
        "plt.figure(figsize=(15,9))\n",
        "\n",
        "#verifying datas separability by genre\n",
        "sns.scatterplot(x=songs_pca[:, 0], y=songs_pca[:, 1], hue=df.genre, s=150).set_title(\"Dimensionality reduction on song features using PCA\", size=30)\n",
        "plt.legend(bbox_to_anchor=(1.05, 1),fontsize=14)"
      ],
      "execution_count": null,
      "outputs": [
        {
          "output_type": "execute_result",
          "data": {
            "text/plain": [
              "<matplotlib.legend.Legend at 0x7f8ff2749f28>"
            ]
          },
          "metadata": {
            "tags": []
          },
          "execution_count": 38
        },
        {
          "output_type": "display_data",
          "data": {
            "image/png": "[encoded data removed]",
            "text/plain": [
              "<Figure size 1080x648 with 1 Axes>"
            ]
          },
          "metadata": {
            "tags": [],
            "needs_background": "light"
          }
        }
      ]
    },
    {
      "cell_type": "markdown",
      "metadata": {
        "id": "Wha_M6fi_A4W"
      },
      "source": [
        "#t-SNE"
      ]
    },
    {
      "cell_type": "code",
      "metadata": {
        "id": "nrQbtFyf_RtO"
      },
      "source": [
        "#performing dimensionality reduction using t-SNE method\n",
        "from sklearn.manifold import TSNE\n",
        "songs_tsne = TSNE(n_components=2).fit_transform(df1)\n"
      ],
      "execution_count": null,
      "outputs": []
    },
    {
      "cell_type": "code",
      "metadata": {
        "colab": {
          "base_uri": "https://localhost:8080/",
          "height": 529
        },
        "id": "OJcU5Zfs_9Pq",
        "outputId": "da366f44-91ad-4e22-e226-e1855c87a9b6"
      },
      "source": [
        "#plotting dimensionality reduction\n",
        "plt.figure(figsize=(15,8))\n",
        "#verifying datas separability by genre\n",
        "sns.scatterplot(x=songs_tsne[:, 0], y=songs_tsne[:, 1], hue=df.genre, s=150).set_title(\"Dimensionality reduction on song features using PCA\", size=30) \n",
        "plt.legend(bbox_to_anchor=(1.05, 1), fontsize=14, borderaxespad=0.)"
      ],
      "execution_count": null,
      "outputs": [
        {
          "output_type": "execute_result",
          "data": {
            "text/plain": [
              "<matplotlib.legend.Legend at 0x7f8ff2b24a90>"
            ]
          },
          "metadata": {
            "tags": []
          },
          "execution_count": 41
        },
        {
          "output_type": "display_data",
          "data": {
            "image/png": "[encoded data removed]",
            "text/plain": [
              "<Figure size 1080x576 with 1 Axes>"
            ]
          },
          "metadata": {
            "tags": [],
            "needs_background": "light"
          }
        }
      ]
    },
    {
      "cell_type": "markdown",
      "metadata": {
        "id": "cIpcsCOhdmVv"
      },
      "source": [
        "* **Infer `Genre` using song features with linear regression.**\n"
      ]
    },
    {
      "cell_type": "code",
      "metadata": {
        "id": "J6b6lcZzduro"
      },
      "source": [
        "#importing package\n",
        "from sklearn.linear_model import LinearRegression\n",
        "reg = LinearRegression()"
      ],
      "execution_count": null,
      "outputs": []
    },
    {
      "cell_type": "code",
      "metadata": {
        "id": "mFhF2w0Y5uld",
        "colab": {
          "base_uri": "https://localhost:8080/",
          "height": 1000
        },
        "outputId": "cde151bf-753b-4cbb-8e1b-f6f32ecad314"
      },
      "source": [
        "#converting genre variable into numerical categories\n",
        "df.genre = pd.Categorical(df.genre)\n",
        "df[\"genre_t\"] = df.genre.cat.codes\n",
        "df[[\"genre\", \"genre_t\"]] #each genre has an assigned numerical category\n",
        "one hot encoding"
      ],
      "execution_count": null,
      "outputs": [
        {
          "output_type": "execute_result",
          "data": {
            "text/html": [
              "<div>\n",
              "<style scoped>\n",
              "    .dataframe tbody tr th:only-of-type {\n",
              "        vertical-align: middle;\n",
              "    }\n",
              "\n",
              "    .dataframe tbody tr th {\n",
              "        vertical-align: top;\n",
              "    }\n",
              "\n",
              "    .dataframe thead th {\n",
              "        text-align: right;\n",
              "    }\n",
              "</style>\n",
              "<table border=\"1\" class=\"dataframe\">\n",
              "  <thead>\n",
              "    <tr style=\"text-align: right;\">\n",
              "      <th></th>\n",
              "      <th>genre</th>\n",
              "      <th>genre_t</th>\n",
              "    </tr>\n",
              "  </thead>\n",
              "  <tbody>\n",
              "    <tr>\n",
              "      <th>0</th>\n",
              "      <td>canadian pop</td>\n",
              "      <td>6</td>\n",
              "    </tr>\n",
              "    <tr>\n",
              "      <th>1</th>\n",
              "      <td>reggaeton flow</td>\n",
              "      <td>19</td>\n",
              "    </tr>\n",
              "    <tr>\n",
              "      <th>2</th>\n",
              "      <td>dance pop</td>\n",
              "      <td>8</td>\n",
              "    </tr>\n",
              "    <tr>\n",
              "      <th>3</th>\n",
              "      <td>pop</td>\n",
              "      <td>15</td>\n",
              "    </tr>\n",
              "    <tr>\n",
              "      <th>4</th>\n",
              "      <td>dfw rap</td>\n",
              "      <td>9</td>\n",
              "    </tr>\n",
              "    <tr>\n",
              "      <th>5</th>\n",
              "      <td>pop</td>\n",
              "      <td>15</td>\n",
              "    </tr>\n",
              "    <tr>\n",
              "      <th>6</th>\n",
              "      <td>trap music</td>\n",
              "      <td>20</td>\n",
              "    </tr>\n",
              "    <tr>\n",
              "      <th>7</th>\n",
              "      <td>pop</td>\n",
              "      <td>15</td>\n",
              "    </tr>\n",
              "    <tr>\n",
              "      <th>8</th>\n",
              "      <td>country rap</td>\n",
              "      <td>7</td>\n",
              "    </tr>\n",
              "    <tr>\n",
              "      <th>9</th>\n",
              "      <td>electropop</td>\n",
              "      <td>11</td>\n",
              "    </tr>\n",
              "    <tr>\n",
              "      <th>10</th>\n",
              "      <td>reggaeton</td>\n",
              "      <td>18</td>\n",
              "    </tr>\n",
              "    <tr>\n",
              "      <th>11</th>\n",
              "      <td>dance pop</td>\n",
              "      <td>8</td>\n",
              "    </tr>\n",
              "    <tr>\n",
              "      <th>12</th>\n",
              "      <td>pop</td>\n",
              "      <td>15</td>\n",
              "    </tr>\n",
              "    <tr>\n",
              "      <th>13</th>\n",
              "      <td>panamanian pop</td>\n",
              "      <td>14</td>\n",
              "    </tr>\n",
              "    <tr>\n",
              "      <th>14</th>\n",
              "      <td>canadian hip hop</td>\n",
              "      <td>5</td>\n",
              "    </tr>\n",
              "    <tr>\n",
              "      <th>15</th>\n",
              "      <td>dance pop</td>\n",
              "      <td>8</td>\n",
              "    </tr>\n",
              "    <tr>\n",
              "      <th>16</th>\n",
              "      <td>latin</td>\n",
              "      <td>13</td>\n",
              "    </tr>\n",
              "    <tr>\n",
              "      <th>17</th>\n",
              "      <td>dfw rap</td>\n",
              "      <td>9</td>\n",
              "    </tr>\n",
              "    <tr>\n",
              "      <th>18</th>\n",
              "      <td>canadian hip hop</td>\n",
              "      <td>5</td>\n",
              "    </tr>\n",
              "    <tr>\n",
              "      <th>19</th>\n",
              "      <td>escape room</td>\n",
              "      <td>12</td>\n",
              "    </tr>\n",
              "    <tr>\n",
              "      <th>20</th>\n",
              "      <td>pop house</td>\n",
              "      <td>16</td>\n",
              "    </tr>\n",
              "    <tr>\n",
              "      <th>21</th>\n",
              "      <td>country rap</td>\n",
              "      <td>7</td>\n",
              "    </tr>\n",
              "    <tr>\n",
              "      <th>22</th>\n",
              "      <td>reggaeton flow</td>\n",
              "      <td>19</td>\n",
              "    </tr>\n",
              "    <tr>\n",
              "      <th>23</th>\n",
              "      <td>latin</td>\n",
              "      <td>13</td>\n",
              "    </tr>\n",
              "    <tr>\n",
              "      <th>24</th>\n",
              "      <td>electropop</td>\n",
              "      <td>11</td>\n",
              "    </tr>\n",
              "    <tr>\n",
              "      <th>25</th>\n",
              "      <td>canadian pop</td>\n",
              "      <td>6</td>\n",
              "    </tr>\n",
              "    <tr>\n",
              "      <th>26</th>\n",
              "      <td>australian pop</td>\n",
              "      <td>1</td>\n",
              "    </tr>\n",
              "    <tr>\n",
              "      <th>27</th>\n",
              "      <td>canadian hip hop</td>\n",
              "      <td>5</td>\n",
              "    </tr>\n",
              "    <tr>\n",
              "      <th>28</th>\n",
              "      <td>latin</td>\n",
              "      <td>13</td>\n",
              "    </tr>\n",
              "    <tr>\n",
              "      <th>29</th>\n",
              "      <td>latin</td>\n",
              "      <td>13</td>\n",
              "    </tr>\n",
              "    <tr>\n",
              "      <th>30</th>\n",
              "      <td>edm</td>\n",
              "      <td>10</td>\n",
              "    </tr>\n",
              "    <tr>\n",
              "      <th>31</th>\n",
              "      <td>dance pop</td>\n",
              "      <td>8</td>\n",
              "    </tr>\n",
              "    <tr>\n",
              "      <th>32</th>\n",
              "      <td>reggaeton</td>\n",
              "      <td>18</td>\n",
              "    </tr>\n",
              "    <tr>\n",
              "      <th>33</th>\n",
              "      <td>atl hip hop</td>\n",
              "      <td>0</td>\n",
              "    </tr>\n",
              "    <tr>\n",
              "      <th>34</th>\n",
              "      <td>dance pop</td>\n",
              "      <td>8</td>\n",
              "    </tr>\n",
              "    <tr>\n",
              "      <th>35</th>\n",
              "      <td>big room</td>\n",
              "      <td>2</td>\n",
              "    </tr>\n",
              "    <tr>\n",
              "      <th>36</th>\n",
              "      <td>panamanian pop</td>\n",
              "      <td>14</td>\n",
              "    </tr>\n",
              "    <tr>\n",
              "      <th>37</th>\n",
              "      <td>pop</td>\n",
              "      <td>15</td>\n",
              "    </tr>\n",
              "    <tr>\n",
              "      <th>38</th>\n",
              "      <td>boy band</td>\n",
              "      <td>3</td>\n",
              "    </tr>\n",
              "    <tr>\n",
              "      <th>39</th>\n",
              "      <td>dance pop</td>\n",
              "      <td>8</td>\n",
              "    </tr>\n",
              "    <tr>\n",
              "      <th>40</th>\n",
              "      <td>edm</td>\n",
              "      <td>10</td>\n",
              "    </tr>\n",
              "    <tr>\n",
              "      <th>41</th>\n",
              "      <td>dance pop</td>\n",
              "      <td>8</td>\n",
              "    </tr>\n",
              "    <tr>\n",
              "      <th>42</th>\n",
              "      <td>dance pop</td>\n",
              "      <td>8</td>\n",
              "    </tr>\n",
              "    <tr>\n",
              "      <th>43</th>\n",
              "      <td>pop</td>\n",
              "      <td>15</td>\n",
              "    </tr>\n",
              "    <tr>\n",
              "      <th>44</th>\n",
              "      <td>r&amp;b en espanol</td>\n",
              "      <td>17</td>\n",
              "    </tr>\n",
              "    <tr>\n",
              "      <th>45</th>\n",
              "      <td>brostep</td>\n",
              "      <td>4</td>\n",
              "    </tr>\n",
              "    <tr>\n",
              "      <th>46</th>\n",
              "      <td>latin</td>\n",
              "      <td>13</td>\n",
              "    </tr>\n",
              "    <tr>\n",
              "      <th>47</th>\n",
              "      <td>brostep</td>\n",
              "      <td>4</td>\n",
              "    </tr>\n",
              "    <tr>\n",
              "      <th>48</th>\n",
              "      <td>edm</td>\n",
              "      <td>10</td>\n",
              "    </tr>\n",
              "    <tr>\n",
              "      <th>49</th>\n",
              "      <td>pop</td>\n",
              "      <td>15</td>\n",
              "    </tr>\n",
              "  </tbody>\n",
              "</table>\n",
              "</div>"
            ],
            "text/plain": [
              "               genre  genre_t\n",
              "0       canadian pop        6\n",
              "1     reggaeton flow       19\n",
              "2          dance pop        8\n",
              "3                pop       15\n",
              "4            dfw rap        9\n",
              "5                pop       15\n",
              "6         trap music       20\n",
              "7                pop       15\n",
              "8        country rap        7\n",
              "9         electropop       11\n",
              "10         reggaeton       18\n",
              "11         dance pop        8\n",
              "12               pop       15\n",
              "13    panamanian pop       14\n",
              "14  canadian hip hop        5\n",
              "15         dance pop        8\n",
              "16             latin       13\n",
              "17           dfw rap        9\n",
              "18  canadian hip hop        5\n",
              "19       escape room       12\n",
              "20         pop house       16\n",
              "21       country rap        7\n",
              "22    reggaeton flow       19\n",
              "23             latin       13\n",
              "24        electropop       11\n",
              "25      canadian pop        6\n",
              "26    australian pop        1\n",
              "27  canadian hip hop        5\n",
              "28             latin       13\n",
              "29             latin       13\n",
              "30               edm       10\n",
              "31         dance pop        8\n",
              "32         reggaeton       18\n",
              "33       atl hip hop        0\n",
              "34         dance pop        8\n",
              "35          big room        2\n",
              "36    panamanian pop       14\n",
              "37               pop       15\n",
              "38          boy band        3\n",
              "39         dance pop        8\n",
              "40               edm       10\n",
              "41         dance pop        8\n",
              "42         dance pop        8\n",
              "43               pop       15\n",
              "44    r&b en espanol       17\n",
              "45           brostep        4\n",
              "46             latin       13\n",
              "47           brostep        4\n",
              "48               edm       10\n",
              "49               pop       15"
            ]
          },
          "metadata": {
            "tags": []
          },
          "execution_count": 44
        }
      ]
    },
    {
      "cell_type": "code",
      "metadata": {
        "colab": {
          "base_uri": "https://localhost:8080/"
        },
        "id": "m771caNVgyeJ",
        "outputId": "b3f46db3-5e9c-4491-970e-076225b6511a"
      },
      "source": [
        "#Using OneHotEncoder to convert genres from DV into dummy variables\n",
        "Y1 = df.loc[:, \"genre\"]\n",
        "from numpy import asarray\n",
        "from sklearn.preprocessing import OneHotEncoder\n",
        "data = asarray(Y1)\n",
        "data = data.reshape(-1, 1)\n",
        "encoder = OneHotEncoder(sparse=False)\n",
        "Y2 = encoder.fit_transform(data)\n",
        "Y2"
      ],
      "execution_count": null,
      "outputs": [
        {
          "output_type": "execute_result",
          "data": {
            "text/plain": [
              "array([[0., 0., 0., ..., 0., 0., 0.],\n",
              "       [0., 0., 0., ..., 0., 1., 0.],\n",
              "       [0., 0., 0., ..., 0., 0., 0.],\n",
              "       ...,\n",
              "       [0., 0., 0., ..., 0., 0., 0.],\n",
              "       [0., 0., 0., ..., 0., 0., 0.],\n",
              "       [0., 0., 0., ..., 0., 0., 0.]])"
            ]
          },
          "metadata": {
            "tags": []
          },
          "execution_count": 136
        }
      ]
    },
    {
      "cell_type": "code",
      "metadata": {
        "colab": {
          "base_uri": "https://localhost:8080/"
        },
        "id": "R1vi7uhewisi",
        "outputId": "833aa2b4-b154-4e0b-8b19-3a8c6bfaa6cb"
      },
      "source": [
        "#estimating linear regression for dummy DVs\n",
        "reg.fit(X, Y2)\n",
        "reg.coef_\n",
        "# coeff_df = pd.DataFrame(reg.coef_, X.columns, columns=['Coefficient'])\n",
        "# coeff_df"
      ],
      "execution_count": null,
      "outputs": [
        {
          "output_type": "execute_result",
          "data": {
            "text/plain": [
              "array([[-8.14109212e-04,  1.04862932e-03,  1.63764795e-03,\n",
              "        -4.24642636e-03,  7.79424648e-05, -1.95805278e-03,\n",
              "        -2.37885916e-04, -1.05604178e-03,  1.74330419e-03,\n",
              "        -1.37262519e-03],\n",
              "       [-3.40605224e-04,  1.53361818e-03,  2.18138366e-03,\n",
              "        -3.58360227e-03,  7.76104594e-04, -7.33537165e-04,\n",
              "         1.62178402e-05,  3.00848939e-03,  7.81569840e-04,\n",
              "        -4.70618716e-03],\n",
              "       [ 8.73289763e-05,  4.68954292e-03, -3.41649271e-04,\n",
              "        -2.39645360e-02,  9.63573793e-05, -1.72511012e-03,\n",
              "        -5.68456516e-04,  3.97464595e-04, -1.99358616e-03,\n",
              "         1.13142537e-04],\n",
              "       [ 9.49054938e-04, -6.02676858e-04,  1.18987304e-03,\n",
              "        -1.97745384e-03,  3.33527769e-04,  1.27446950e-03,\n",
              "        -1.67492449e-04, -1.08222589e-03, -1.75162258e-03,\n",
              "        -6.14501623e-03],\n",
              "       [-1.35088753e-03, -3.85496501e-03, -6.99538708e-04,\n",
              "         4.43089351e-02,  6.22600352e-03,  8.02736638e-05,\n",
              "        -7.57929298e-04, -1.67771914e-03,  2.35831099e-03,\n",
              "        -9.28207305e-04],\n",
              "       [ 2.17625749e-04, -8.46709779e-03,  3.82745752e-03,\n",
              "         2.23887057e-02,  9.00371733e-04, -8.86983852e-04,\n",
              "         1.46061899e-04, -1.63411796e-03, -3.81347515e-03,\n",
              "         5.82010330e-03],\n",
              "       [ 9.50880742e-04, -2.90609105e-04, -4.28156964e-04,\n",
              "         4.06420099e-03, -1.51375937e-04,  4.88396547e-04,\n",
              "        -4.10804887e-04,  2.57853612e-04, -1.33224871e-03,\n",
              "        -2.63399335e-02],\n",
              "       [ 1.50890607e-03, -6.86482131e-05,  2.30646467e-03,\n",
              "        -2.95526780e-03,  4.04033601e-04, -1.53545930e-05,\n",
              "        -1.48956464e-03, -3.51210428e-04, -3.26085089e-03,\n",
              "         1.98812085e-03],\n",
              "       [-2.90089526e-03, -3.96367548e-05,  3.01183209e-04,\n",
              "         1.00132628e-02,  2.01101582e-03, -4.35724888e-03,\n",
              "        -7.02307034e-04,  1.54613289e-03,  1.08259567e-02,\n",
              "        -2.40783767e-02],\n",
              "       [-9.95634960e-05, -2.02830729e-03, -1.61347286e-03,\n",
              "         2.09662577e-02, -3.55817643e-03,  1.23555701e-03,\n",
              "        -5.61239952e-04,  3.06331630e-03, -2.97415778e-03,\n",
              "         1.43936598e-02],\n",
              "       [ 7.02272449e-05,  2.91963181e-03, -8.65617050e-03,\n",
              "        -5.11288424e-02,  2.02227680e-03, -8.09454764e-04,\n",
              "         9.91641336e-04, -2.11207073e-03, -7.63210641e-03,\n",
              "        -1.30193804e-03],\n",
              "       [-2.48892252e-04, -8.58936632e-04, -8.27829508e-04,\n",
              "        -5.11531699e-02,  9.66295828e-04,  2.81000996e-03,\n",
              "         5.02830191e-04,  2.98414720e-05,  4.02973863e-03,\n",
              "         1.02742306e-02],\n",
              "       [ 7.95324098e-04, -2.79848802e-03,  1.06965248e-04,\n",
              "         2.68026145e-02, -7.06056649e-04, -2.94591599e-04,\n",
              "        -3.47290277e-04, -9.39506404e-04, -6.74557145e-04,\n",
              "         1.99792635e-03],\n",
              "       [ 5.32105183e-04,  1.76064714e-03,  1.27163858e-04,\n",
              "         7.08131409e-03,  3.29207120e-03,  4.23961118e-03,\n",
              "         1.54735542e-03, -3.07361207e-05,  3.24239503e-04,\n",
              "         1.84578453e-02],\n",
              "       [ 2.11991689e-03, -2.98899370e-03,  4.79746251e-04,\n",
              "         2.75802062e-02, -2.36914468e-03,  1.68420368e-03,\n",
              "         1.72525814e-03, -1.10688143e-03,  1.88226927e-03,\n",
              "         3.29339916e-03],\n",
              "       [ 7.54595274e-05,  2.18210433e-03, -4.35990881e-03,\n",
              "        -3.85551277e-02, -2.50934029e-03,  9.67391241e-04,\n",
              "        -1.63864630e-04, -5.47742876e-04, -5.38347939e-03,\n",
              "        -7.67842674e-03],\n",
              "       [ 4.63356883e-04,  3.10887591e-03, -9.51822104e-04,\n",
              "        -2.42028472e-02, -1.17235817e-03,  3.29997237e-04,\n",
              "        -4.30232873e-04, -6.00334904e-04, -3.80771807e-03,\n",
              "         5.67932923e-03],\n",
              "       [-1.26874615e-03, -4.65396418e-05,  2.07442469e-03,\n",
              "         1.91845085e-02, -2.20883208e-03,  4.79956615e-04,\n",
              "        -7.56251821e-04,  1.23396452e-03,  2.73254920e-03,\n",
              "         2.22548752e-03],\n",
              "       [-9.77720061e-04,  1.42922319e-03,  7.30042660e-04,\n",
              "         1.82876606e-02, -7.58764280e-05, -1.04841003e-03,\n",
              "        -7.95228985e-05,  2.67735773e-03,  7.77864052e-03,\n",
              "         3.34465857e-03],\n",
              "       [-3.81472779e-04,  2.14873136e-03,  1.66519702e-03,\n",
              "        -3.36039439e-03, -4.03901684e-03,  1.49188425e-04,\n",
              "         2.84217549e-03, -1.17211541e-04, -2.13583771e-03,\n",
              "         5.89187050e-03],\n",
              "       [ 6.12705663e-04,  1.22389486e-03,  1.25099895e-03,\n",
              "         4.45000162e-03, -3.15823195e-04, -1.91031128e-03,\n",
              "        -1.09869711e-03, -9.58621305e-04,  2.30306115e-03,\n",
              "        -9.29062841e-04]])"
            ]
          },
          "metadata": {
            "tags": []
          },
          "execution_count": 144
        }
      ]
    },
    {
      "cell_type": "code",
      "metadata": {
        "id": "2kJVs35073Oj"
      },
      "source": [
        "#creating X and Y values for estimation for numerical categorical variables\n",
        "X = df.loc[:, \"beats_per_minute\":\"popularity\"]\n",
        "Y = df.loc[:, \"genre_t\"]"
      ],
      "execution_count": null,
      "outputs": []
    },
    {
      "cell_type": "code",
      "metadata": {
        "id": "EgqhrOMXsKiH",
        "colab": {
          "base_uri": "https://localhost:8080/",
          "height": 359
        },
        "outputId": "0714524a-3470-4808-bf51-94c3e0fc4445"
      },
      "source": [
        "#estimating linear regression for numerical categorical DVs\n",
        "reg.fit(X, Y)\n",
        "coeff_df = pd.DataFrame(reg.coef_, X.columns, columns=['Coefficient'])\n",
        "coeff_df"
      ],
      "execution_count": null,
      "outputs": [
        {
          "output_type": "execute_result",
          "data": {
            "text/html": [
              "<div>\n",
              "<style scoped>\n",
              "    .dataframe tbody tr th:only-of-type {\n",
              "        vertical-align: middle;\n",
              "    }\n",
              "\n",
              "    .dataframe tbody tr th {\n",
              "        vertical-align: top;\n",
              "    }\n",
              "\n",
              "    .dataframe thead th {\n",
              "        text-align: right;\n",
              "    }\n",
              "</style>\n",
              "<table border=\"1\" class=\"dataframe\">\n",
              "  <thead>\n",
              "    <tr style=\"text-align: right;\">\n",
              "      <th></th>\n",
              "      <th>Coefficient</th>\n",
              "    </tr>\n",
              "  </thead>\n",
              "  <tbody>\n",
              "    <tr>\n",
              "      <th>beats_per_minute</th>\n",
              "      <td>0.009019</td>\n",
              "    </tr>\n",
              "    <tr>\n",
              "      <th>energy</th>\n",
              "      <td>0.070474</td>\n",
              "    </tr>\n",
              "    <tr>\n",
              "      <th>danceability</th>\n",
              "      <td>-0.038706</td>\n",
              "    </tr>\n",
              "    <tr>\n",
              "      <th>loudness__db__</th>\n",
              "      <td>-0.055032</td>\n",
              "    </tr>\n",
              "    <tr>\n",
              "      <th>liveness</th>\n",
              "      <td>-0.129004</td>\n",
              "    </tr>\n",
              "    <tr>\n",
              "      <th>valence_</th>\n",
              "      <td>0.046292</td>\n",
              "    </tr>\n",
              "    <tr>\n",
              "      <th>length_</th>\n",
              "      <td>0.036461</td>\n",
              "    </tr>\n",
              "    <tr>\n",
              "      <th>acousticness__</th>\n",
              "      <td>0.006689</td>\n",
              "    </tr>\n",
              "    <tr>\n",
              "      <th>speechiness_</th>\n",
              "      <td>0.051678</td>\n",
              "    </tr>\n",
              "    <tr>\n",
              "      <th>popularity</th>\n",
              "      <td>0.372392</td>\n",
              "    </tr>\n",
              "  </tbody>\n",
              "</table>\n",
              "</div>"
            ],
            "text/plain": [
              "                  Coefficient\n",
              "beats_per_minute     0.009019\n",
              "energy               0.070474\n",
              "danceability        -0.038706\n",
              "loudness__db__      -0.055032\n",
              "liveness            -0.129004\n",
              "valence_             0.046292\n",
              "length_              0.036461\n",
              "acousticness__       0.006689\n",
              "speechiness_         0.051678\n",
              "popularity           0.372392"
            ]
          },
          "metadata": {
            "tags": []
          },
          "execution_count": 145
        }
      ]
    },
    {
      "cell_type": "code",
      "metadata": {
        "id": "Uu4SmO2DLBoP",
        "colab": {
          "base_uri": "https://localhost:8080/",
          "height": 1000
        },
        "outputId": "1885c8d7-61a5-4be6-e91f-7840323202a6"
      },
      "source": [
        "df[\"predicted\"] = reg.predict(X)\n",
        "df[[\"genre\", \"genre_t\", \"predicted\"]]\n",
        "#convert predictions into class - accuracy score\n",
        "#when treating as regression - r2, mean squarred error"
      ],
      "execution_count": null,
      "outputs": [
        {
          "output_type": "execute_result",
          "data": {
            "text/html": [
              "<div>\n",
              "<style scoped>\n",
              "    .dataframe tbody tr th:only-of-type {\n",
              "        vertical-align: middle;\n",
              "    }\n",
              "\n",
              "    .dataframe tbody tr th {\n",
              "        vertical-align: top;\n",
              "    }\n",
              "\n",
              "    .dataframe thead th {\n",
              "        text-align: right;\n",
              "    }\n",
              "</style>\n",
              "<table border=\"1\" class=\"dataframe\">\n",
              "  <thead>\n",
              "    <tr style=\"text-align: right;\">\n",
              "      <th></th>\n",
              "      <th>genre</th>\n",
              "      <th>genre_t</th>\n",
              "      <th>predicted</th>\n",
              "    </tr>\n",
              "  </thead>\n",
              "  <tbody>\n",
              "    <tr>\n",
              "      <th>0</th>\n",
              "      <td>canadian pop</td>\n",
              "      <td>6</td>\n",
              "      <td>7.357444</td>\n",
              "    </tr>\n",
              "    <tr>\n",
              "      <th>1</th>\n",
              "      <td>reggaeton flow</td>\n",
              "      <td>19</td>\n",
              "      <td>17.432401</td>\n",
              "    </tr>\n",
              "    <tr>\n",
              "      <th>2</th>\n",
              "      <td>dance pop</td>\n",
              "      <td>8</td>\n",
              "      <td>14.125260</td>\n",
              "    </tr>\n",
              "    <tr>\n",
              "      <th>3</th>\n",
              "      <td>pop</td>\n",
              "      <td>15</td>\n",
              "      <td>11.236769</td>\n",
              "    </tr>\n",
              "    <tr>\n",
              "      <th>4</th>\n",
              "      <td>dfw rap</td>\n",
              "      <td>9</td>\n",
              "      <td>11.404271</td>\n",
              "    </tr>\n",
              "    <tr>\n",
              "      <th>5</th>\n",
              "      <td>pop</td>\n",
              "      <td>15</td>\n",
              "      <td>11.220556</td>\n",
              "    </tr>\n",
              "    <tr>\n",
              "      <th>6</th>\n",
              "      <td>trap music</td>\n",
              "      <td>20</td>\n",
              "      <td>10.304085</td>\n",
              "    </tr>\n",
              "    <tr>\n",
              "      <th>7</th>\n",
              "      <td>pop</td>\n",
              "      <td>15</td>\n",
              "      <td>12.277596</td>\n",
              "    </tr>\n",
              "    <tr>\n",
              "      <th>8</th>\n",
              "      <td>country rap</td>\n",
              "      <td>7</td>\n",
              "      <td>8.769307</td>\n",
              "    </tr>\n",
              "    <tr>\n",
              "      <th>9</th>\n",
              "      <td>electropop</td>\n",
              "      <td>11</td>\n",
              "      <td>14.114311</td>\n",
              "    </tr>\n",
              "    <tr>\n",
              "      <th>10</th>\n",
              "      <td>reggaeton</td>\n",
              "      <td>18</td>\n",
              "      <td>13.706236</td>\n",
              "    </tr>\n",
              "    <tr>\n",
              "      <th>11</th>\n",
              "      <td>dance pop</td>\n",
              "      <td>8</td>\n",
              "      <td>8.092732</td>\n",
              "    </tr>\n",
              "    <tr>\n",
              "      <th>12</th>\n",
              "      <td>pop</td>\n",
              "      <td>15</td>\n",
              "      <td>9.036584</td>\n",
              "    </tr>\n",
              "    <tr>\n",
              "      <th>13</th>\n",
              "      <td>panamanian pop</td>\n",
              "      <td>14</td>\n",
              "      <td>17.195701</td>\n",
              "    </tr>\n",
              "    <tr>\n",
              "      <th>14</th>\n",
              "      <td>canadian hip hop</td>\n",
              "      <td>5</td>\n",
              "      <td>8.449811</td>\n",
              "    </tr>\n",
              "    <tr>\n",
              "      <th>15</th>\n",
              "      <td>dance pop</td>\n",
              "      <td>8</td>\n",
              "      <td>7.210796</td>\n",
              "    </tr>\n",
              "    <tr>\n",
              "      <th>16</th>\n",
              "      <td>latin</td>\n",
              "      <td>13</td>\n",
              "      <td>14.329190</td>\n",
              "    </tr>\n",
              "    <tr>\n",
              "      <th>17</th>\n",
              "      <td>dfw rap</td>\n",
              "      <td>9</td>\n",
              "      <td>11.206973</td>\n",
              "    </tr>\n",
              "    <tr>\n",
              "      <th>18</th>\n",
              "      <td>canadian hip hop</td>\n",
              "      <td>5</td>\n",
              "      <td>6.825922</td>\n",
              "    </tr>\n",
              "    <tr>\n",
              "      <th>19</th>\n",
              "      <td>escape room</td>\n",
              "      <td>12</td>\n",
              "      <td>10.392969</td>\n",
              "    </tr>\n",
              "    <tr>\n",
              "      <th>20</th>\n",
              "      <td>pop house</td>\n",
              "      <td>16</td>\n",
              "      <td>11.780941</td>\n",
              "    </tr>\n",
              "    <tr>\n",
              "      <th>21</th>\n",
              "      <td>country rap</td>\n",
              "      <td>7</td>\n",
              "      <td>8.596088</td>\n",
              "    </tr>\n",
              "    <tr>\n",
              "      <th>22</th>\n",
              "      <td>reggaeton flow</td>\n",
              "      <td>19</td>\n",
              "      <td>13.669397</td>\n",
              "    </tr>\n",
              "    <tr>\n",
              "      <th>23</th>\n",
              "      <td>latin</td>\n",
              "      <td>13</td>\n",
              "      <td>11.544362</td>\n",
              "    </tr>\n",
              "    <tr>\n",
              "      <th>24</th>\n",
              "      <td>electropop</td>\n",
              "      <td>11</td>\n",
              "      <td>12.004047</td>\n",
              "    </tr>\n",
              "    <tr>\n",
              "      <th>25</th>\n",
              "      <td>canadian pop</td>\n",
              "      <td>6</td>\n",
              "      <td>6.499268</td>\n",
              "    </tr>\n",
              "    <tr>\n",
              "      <th>26</th>\n",
              "      <td>australian pop</td>\n",
              "      <td>1</td>\n",
              "      <td>7.952459</td>\n",
              "    </tr>\n",
              "    <tr>\n",
              "      <th>27</th>\n",
              "      <td>canadian hip hop</td>\n",
              "      <td>5</td>\n",
              "      <td>8.412488</td>\n",
              "    </tr>\n",
              "    <tr>\n",
              "      <th>28</th>\n",
              "      <td>latin</td>\n",
              "      <td>13</td>\n",
              "      <td>13.831890</td>\n",
              "    </tr>\n",
              "    <tr>\n",
              "      <th>29</th>\n",
              "      <td>latin</td>\n",
              "      <td>13</td>\n",
              "      <td>12.438682</td>\n",
              "    </tr>\n",
              "    <tr>\n",
              "      <th>30</th>\n",
              "      <td>edm</td>\n",
              "      <td>10</td>\n",
              "      <td>9.312730</td>\n",
              "    </tr>\n",
              "    <tr>\n",
              "      <th>31</th>\n",
              "      <td>dance pop</td>\n",
              "      <td>8</td>\n",
              "      <td>9.273084</td>\n",
              "    </tr>\n",
              "    <tr>\n",
              "      <th>32</th>\n",
              "      <td>reggaeton</td>\n",
              "      <td>18</td>\n",
              "      <td>12.299498</td>\n",
              "    </tr>\n",
              "    <tr>\n",
              "      <th>33</th>\n",
              "      <td>atl hip hop</td>\n",
              "      <td>0</td>\n",
              "      <td>8.743354</td>\n",
              "    </tr>\n",
              "    <tr>\n",
              "      <th>34</th>\n",
              "      <td>dance pop</td>\n",
              "      <td>8</td>\n",
              "      <td>9.855951</td>\n",
              "    </tr>\n",
              "    <tr>\n",
              "      <th>35</th>\n",
              "      <td>big room</td>\n",
              "      <td>2</td>\n",
              "      <td>9.194113</td>\n",
              "    </tr>\n",
              "    <tr>\n",
              "      <th>36</th>\n",
              "      <td>panamanian pop</td>\n",
              "      <td>14</td>\n",
              "      <td>15.355294</td>\n",
              "    </tr>\n",
              "    <tr>\n",
              "      <th>37</th>\n",
              "      <td>pop</td>\n",
              "      <td>15</td>\n",
              "      <td>8.889591</td>\n",
              "    </tr>\n",
              "    <tr>\n",
              "      <th>38</th>\n",
              "      <td>boy band</td>\n",
              "      <td>3</td>\n",
              "      <td>9.152334</td>\n",
              "    </tr>\n",
              "    <tr>\n",
              "      <th>39</th>\n",
              "      <td>dance pop</td>\n",
              "      <td>8</td>\n",
              "      <td>7.390274</td>\n",
              "    </tr>\n",
              "    <tr>\n",
              "      <th>40</th>\n",
              "      <td>edm</td>\n",
              "      <td>10</td>\n",
              "      <td>11.291330</td>\n",
              "    </tr>\n",
              "    <tr>\n",
              "      <th>41</th>\n",
              "      <td>dance pop</td>\n",
              "      <td>8</td>\n",
              "      <td>11.433093</td>\n",
              "    </tr>\n",
              "    <tr>\n",
              "      <th>42</th>\n",
              "      <td>dance pop</td>\n",
              "      <td>8</td>\n",
              "      <td>6.961688</td>\n",
              "    </tr>\n",
              "    <tr>\n",
              "      <th>43</th>\n",
              "      <td>pop</td>\n",
              "      <td>15</td>\n",
              "      <td>7.141880</td>\n",
              "    </tr>\n",
              "    <tr>\n",
              "      <th>44</th>\n",
              "      <td>r&amp;b en espanol</td>\n",
              "      <td>17</td>\n",
              "      <td>10.978570</td>\n",
              "    </tr>\n",
              "    <tr>\n",
              "      <th>45</th>\n",
              "      <td>brostep</td>\n",
              "      <td>4</td>\n",
              "      <td>3.017723</td>\n",
              "    </tr>\n",
              "    <tr>\n",
              "      <th>46</th>\n",
              "      <td>latin</td>\n",
              "      <td>13</td>\n",
              "      <td>13.810214</td>\n",
              "    </tr>\n",
              "    <tr>\n",
              "      <th>47</th>\n",
              "      <td>brostep</td>\n",
              "      <td>4</td>\n",
              "      <td>11.863817</td>\n",
              "    </tr>\n",
              "    <tr>\n",
              "      <th>48</th>\n",
              "      <td>edm</td>\n",
              "      <td>10</td>\n",
              "      <td>8.003983</td>\n",
              "    </tr>\n",
              "    <tr>\n",
              "      <th>49</th>\n",
              "      <td>pop</td>\n",
              "      <td>15</td>\n",
              "      <td>10.612946</td>\n",
              "    </tr>\n",
              "  </tbody>\n",
              "</table>\n",
              "</div>"
            ],
            "text/plain": [
              "               genre  genre_t  predicted\n",
              "0       canadian pop        6   7.357444\n",
              "1     reggaeton flow       19  17.432401\n",
              "2          dance pop        8  14.125260\n",
              "3                pop       15  11.236769\n",
              "4            dfw rap        9  11.404271\n",
              "5                pop       15  11.220556\n",
              "6         trap music       20  10.304085\n",
              "7                pop       15  12.277596\n",
              "8        country rap        7   8.769307\n",
              "9         electropop       11  14.114311\n",
              "10         reggaeton       18  13.706236\n",
              "11         dance pop        8   8.092732\n",
              "12               pop       15   9.036584\n",
              "13    panamanian pop       14  17.195701\n",
              "14  canadian hip hop        5   8.449811\n",
              "15         dance pop        8   7.210796\n",
              "16             latin       13  14.329190\n",
              "17           dfw rap        9  11.206973\n",
              "18  canadian hip hop        5   6.825922\n",
              "19       escape room       12  10.392969\n",
              "20         pop house       16  11.780941\n",
              "21       country rap        7   8.596088\n",
              "22    reggaeton flow       19  13.669397\n",
              "23             latin       13  11.544362\n",
              "24        electropop       11  12.004047\n",
              "25      canadian pop        6   6.499268\n",
              "26    australian pop        1   7.952459\n",
              "27  canadian hip hop        5   8.412488\n",
              "28             latin       13  13.831890\n",
              "29             latin       13  12.438682\n",
              "30               edm       10   9.312730\n",
              "31         dance pop        8   9.273084\n",
              "32         reggaeton       18  12.299498\n",
              "33       atl hip hop        0   8.743354\n",
              "34         dance pop        8   9.855951\n",
              "35          big room        2   9.194113\n",
              "36    panamanian pop       14  15.355294\n",
              "37               pop       15   8.889591\n",
              "38          boy band        3   9.152334\n",
              "39         dance pop        8   7.390274\n",
              "40               edm       10  11.291330\n",
              "41         dance pop        8  11.433093\n",
              "42         dance pop        8   6.961688\n",
              "43               pop       15   7.141880\n",
              "44    r&b en espanol       17  10.978570\n",
              "45           brostep        4   3.017723\n",
              "46             latin       13  13.810214\n",
              "47           brostep        4  11.863817\n",
              "48               edm       10   8.003983\n",
              "49               pop       15  10.612946"
            ]
          },
          "metadata": {
            "tags": []
          },
          "execution_count": 47
        }
      ]
    },
    {
      "cell_type": "markdown",
      "metadata": {
        "id": "8wt3UmIidoRo"
      },
      "source": [
        "* **Cluster songs by features. Generate lists of 5 of similar songs. Verify their similarity by actually listening to some of cluster items on Youtube / Spotify / any other streaming platform.**"
      ]
    },
    {
      "cell_type": "code",
      "metadata": {
        "id": "B_sZXVQCgow3"
      },
      "source": [
        "from sklearn.cluster import KMeans\n",
        "#Elbow method to select the right n of clusters\n",
        "#selecting n of clusters\n",
        "distortions = []\n",
        "K = range(1,10)\n",
        "for k in K:\n",
        "    kmeanModel = KMeans(n_clusters=k)\n",
        "    kmeanModel.fit(df1)\n",
        "    distortions.append(kmeanModel.inertia_)"
      ],
      "execution_count": null,
      "outputs": []
    },
    {
      "cell_type": "code",
      "metadata": {
        "colab": {
          "base_uri": "https://localhost:8080/",
          "height": 545
        },
        "id": "if91iTomhfPF",
        "outputId": "68a847bc-356d-4b05-b097-d3ce128502bf"
      },
      "source": [
        "#plotting the distortions of K-means for Elbow method\n",
        "plt.figure(figsize=(16,8))\n",
        "plt.plot(K, distortions, 'bx-')\n",
        "plt.xlabel('Number of clusters', size=25)\n",
        "plt.ylabel('Distortion', size=25)\n",
        "plt.title('The Elbow method for the optimal number of clusters', size=35)\n",
        "plt.show()"
      ],
      "execution_count": null,
      "outputs": [
        {
          "output_type": "display_data",
          "data": {
            "image/png": "[encoded data removed]",
            "text/plain": [
              "<Figure size 1152x576 with 1 Axes>"
            ]
          },
          "metadata": {
            "tags": [],
            "needs_background": "light"
          }
        }
      ]
    },
    {
      "cell_type": "markdown",
      "metadata": {
        "id": "ngWuME5ziprH"
      },
      "source": [
        "In order to choose the right number of clusters, I will use the Elbow method. The graph above shows how the distortion changes as we increase the number of clusters. The distortion, or inertia, drops sharply until x=4 and then levels off. Therefore, I conclude that **the optimal number of clusters to run a K-Means algorithm is 4.**"
      ]
    },
    {
      "cell_type": "code",
      "metadata": {
        "id": "Z01zIKE7du_Y",
        "colab": {
          "base_uri": "https://localhost:8080/"
        },
        "outputId": "12cded85-1210-49e7-90a8-6e51c77a8e9e"
      },
      "source": [
        "#running KMeans algorithm for 4 clusters\n",
        "clusterer = KMeans(n_clusters=5)\n",
        "clusterer.fit(df1)\n"
      ],
      "execution_count": null,
      "outputs": [
        {
          "output_type": "execute_result",
          "data": {
            "text/plain": [
              "KMeans(algorithm='auto', copy_x=True, init='k-means++', max_iter=300,\n",
              "       n_clusters=5, n_init=10, n_jobs=None, precompute_distances='auto',\n",
              "       random_state=None, tol=0.0001, verbose=0)"
            ]
          },
          "metadata": {
            "tags": []
          },
          "execution_count": 68
        }
      ]
    },
    {
      "cell_type": "code",
      "metadata": {
        "id": "cRT6lz9aTHB-",
        "colab": {
          "base_uri": "https://localhost:8080/"
        },
        "outputId": "34df0972-55c5-4580-adb2-e067b6bcc4e7"
      },
      "source": [
        "#cluster_centers_ method provides the coordinates of each centroid\n",
        "centroids = clusterer.cluster_centers_\n",
        "centroids"
      ],
      "execution_count": null,
      "outputs": [
        {
          "output_type": "execute_result",
          "data": {
            "text/plain": [
              "array([[ 87.65166655,  -2.37138503],\n",
              "       [-38.76497415,  11.84870221],\n",
              "       [ 15.42307802,  66.82635807],\n",
              "       [  3.82940399, -21.4367092 ]])"
            ]
          },
          "metadata": {
            "tags": []
          },
          "execution_count": 52
        }
      ]
    },
    {
      "cell_type": "code",
      "metadata": {
        "id": "3o8-T20STkfU",
        "colab": {
          "base_uri": "https://localhost:8080/"
        },
        "outputId": "6d720eb6-5fff-48bf-acb1-f3a6c2931e1c"
      },
      "source": [
        "#using predict method to assign each song to a cluster\n",
        "y_kmeans = clusterer.predict(df1)\n",
        "y_kmeans\n"
      ],
      "execution_count": null,
      "outputs": [
        {
          "output_type": "execute_result",
          "data": {
            "text/plain": [
              "array([4, 0, 3, 2, 1, 4, 1, 2, 1, 1, 3, 2, 1, 3, 2, 2, 3, 4, 1, 1, 1, 1,\n",
              "       0, 0, 1, 4, 2, 2, 4, 4, 2, 1, 4, 2, 2, 1, 3, 1, 4, 4, 2, 4, 2, 1,\n",
              "       4, 2, 3, 4, 2, 4], dtype=int32)"
            ]
          },
          "metadata": {
            "tags": []
          },
          "execution_count": 69
        }
      ]
    },
    {
      "cell_type": "code",
      "metadata": {
        "id": "-aln26G4Uap8",
        "colab": {
          "base_uri": "https://localhost:8080/",
          "height": 282
        },
        "outputId": "005aba2d-37cb-484c-8c2b-dc1ffed04362"
      },
      "source": [
        "#plotting clusters\n",
        "plt.scatter(songs_pca[:, 0], songs_pca[:, 1], c=y_kmeans, s=50, cmap='viridis')\n",
        "#plotting centroids\n",
        "plt.scatter(centroids[:, 0], centroids[:, 1], c='red', s=100, alpha=0.5)"
      ],
      "execution_count": null,
      "outputs": [
        {
          "output_type": "execute_result",
          "data": {
            "text/plain": [
              "<matplotlib.collections.PathCollection at 0x7f8ff23c5390>"
            ]
          },
          "metadata": {
            "tags": []
          },
          "execution_count": 70
        },
        {
          "output_type": "display_data",
          "data": {
            "image/png": "[encoded data removed]",
            "text/plain": [
              "<Figure size 432x288 with 1 Axes>"
            ]
          },
          "metadata": {
            "tags": [],
            "needs_background": "light"
          }
        }
      ]
    },
    {
      "cell_type": "code",
      "metadata": {
        "colab": {
          "base_uri": "https://localhost:8080/",
          "height": 1000
        },
        "id": "nolBAd7okb8u",
        "outputId": "5a156210-6e97-4882-baa6-00c98b5a4072"
      },
      "source": [
        "#sorting songs by the cluster to which they belong\n",
        "df[\"clusters\"] = y_kmeans\n",
        "df2 = df[[\"track_name\", \"artist_name\", \"genre\", \"clusters\"]].sort_values(by=[\"clusters\"])\n",
        "df2\n"
      ],
      "execution_count": null,
      "outputs": [
        {
          "output_type": "execute_result",
          "data": {
            "text/html": [
              "<div>\n",
              "<style scoped>\n",
              "    .dataframe tbody tr th:only-of-type {\n",
              "        vertical-align: middle;\n",
              "    }\n",
              "\n",
              "    .dataframe tbody tr th {\n",
              "        vertical-align: top;\n",
              "    }\n",
              "\n",
              "    .dataframe thead th {\n",
              "        text-align: right;\n",
              "    }\n",
              "</style>\n",
              "<table border=\"1\" class=\"dataframe\">\n",
              "  <thead>\n",
              "    <tr style=\"text-align: right;\">\n",
              "      <th></th>\n",
              "      <th>track_name</th>\n",
              "      <th>artist_name</th>\n",
              "      <th>genre</th>\n",
              "      <th>clusters</th>\n",
              "    </tr>\n",
              "  </thead>\n",
              "  <tbody>\n",
              "    <tr>\n",
              "      <th>1</th>\n",
              "      <td>China</td>\n",
              "      <td>Anuel AA</td>\n",
              "      <td>reggaeton flow</td>\n",
              "      <td>0</td>\n",
              "    </tr>\n",
              "    <tr>\n",
              "      <th>23</th>\n",
              "      <td>Soltera - Remix</td>\n",
              "      <td>Lunay</td>\n",
              "      <td>latin</td>\n",
              "      <td>0</td>\n",
              "    </tr>\n",
              "    <tr>\n",
              "      <th>22</th>\n",
              "      <td>No Me Conoce - Remix</td>\n",
              "      <td>Jhay Cortez</td>\n",
              "      <td>reggaeton flow</td>\n",
              "      <td>0</td>\n",
              "    </tr>\n",
              "    <tr>\n",
              "      <th>24</th>\n",
              "      <td>bad guy (with Justin Bieber)</td>\n",
              "      <td>Billie Eilish</td>\n",
              "      <td>electropop</td>\n",
              "      <td>1</td>\n",
              "    </tr>\n",
              "    <tr>\n",
              "      <th>37</th>\n",
              "      <td>Antisocial (with Travis Scott)</td>\n",
              "      <td>Ed Sheeran</td>\n",
              "      <td>pop</td>\n",
              "      <td>1</td>\n",
              "    </tr>\n",
              "    <tr>\n",
              "      <th>35</th>\n",
              "      <td>Summer Days (feat. Macklemore &amp; Patrick Stump ...</td>\n",
              "      <td>Martin Garrix</td>\n",
              "      <td>big room</td>\n",
              "      <td>1</td>\n",
              "    </tr>\n",
              "    <tr>\n",
              "      <th>31</th>\n",
              "      <td>7 rings</td>\n",
              "      <td>Ariana Grande</td>\n",
              "      <td>dance pop</td>\n",
              "      <td>1</td>\n",
              "    </tr>\n",
              "    <tr>\n",
              "      <th>43</th>\n",
              "      <td>Talk</td>\n",
              "      <td>Khalid</td>\n",
              "      <td>pop</td>\n",
              "      <td>1</td>\n",
              "    </tr>\n",
              "    <tr>\n",
              "      <th>21</th>\n",
              "      <td>Panini</td>\n",
              "      <td>Lil Nas X</td>\n",
              "      <td>country rap</td>\n",
              "      <td>1</td>\n",
              "    </tr>\n",
              "    <tr>\n",
              "      <th>20</th>\n",
              "      <td>Piece Of Your Heart</td>\n",
              "      <td>MEDUZA</td>\n",
              "      <td>pop house</td>\n",
              "      <td>1</td>\n",
              "    </tr>\n",
              "    <tr>\n",
              "      <th>18</th>\n",
              "      <td>Lalala</td>\n",
              "      <td>Y2K</td>\n",
              "      <td>canadian hip hop</td>\n",
              "      <td>1</td>\n",
              "    </tr>\n",
              "    <tr>\n",
              "      <th>12</th>\n",
              "      <td>Someone You Loved</td>\n",
              "      <td>Lewis Capaldi</td>\n",
              "      <td>pop</td>\n",
              "      <td>1</td>\n",
              "    </tr>\n",
              "    <tr>\n",
              "      <th>19</th>\n",
              "      <td>Truth Hurts</td>\n",
              "      <td>Lizzo</td>\n",
              "      <td>escape room</td>\n",
              "      <td>1</td>\n",
              "    </tr>\n",
              "    <tr>\n",
              "      <th>4</th>\n",
              "      <td>Goodbyes (Feat. Young Thug)</td>\n",
              "      <td>Post Malone</td>\n",
              "      <td>dfw rap</td>\n",
              "      <td>1</td>\n",
              "    </tr>\n",
              "    <tr>\n",
              "      <th>9</th>\n",
              "      <td>bad guy</td>\n",
              "      <td>Billie Eilish</td>\n",
              "      <td>electropop</td>\n",
              "      <td>1</td>\n",
              "    </tr>\n",
              "    <tr>\n",
              "      <th>8</th>\n",
              "      <td>Old Town Road - Remix</td>\n",
              "      <td>Lil Nas X</td>\n",
              "      <td>country rap</td>\n",
              "      <td>1</td>\n",
              "    </tr>\n",
              "    <tr>\n",
              "      <th>6</th>\n",
              "      <td>Ransom</td>\n",
              "      <td>Lil Tecca</td>\n",
              "      <td>trap music</td>\n",
              "      <td>1</td>\n",
              "    </tr>\n",
              "    <tr>\n",
              "      <th>26</th>\n",
              "      <td>Dance Monkey</td>\n",
              "      <td>Tones and I</td>\n",
              "      <td>australian pop</td>\n",
              "      <td>2</td>\n",
              "    </tr>\n",
              "    <tr>\n",
              "      <th>3</th>\n",
              "      <td>Beautiful People (feat. Khalid)</td>\n",
              "      <td>Ed Sheeran</td>\n",
              "      <td>pop</td>\n",
              "      <td>2</td>\n",
              "    </tr>\n",
              "    <tr>\n",
              "      <th>34</th>\n",
              "      <td>Never Really Over</td>\n",
              "      <td>Katy Perry</td>\n",
              "      <td>dance pop</td>\n",
              "      <td>2</td>\n",
              "    </tr>\n",
              "    <tr>\n",
              "      <th>33</th>\n",
              "      <td>The London (feat. J. Cole &amp; Travis Scott)</td>\n",
              "      <td>Young Thug</td>\n",
              "      <td>atl hip hop</td>\n",
              "      <td>2</td>\n",
              "    </tr>\n",
              "    <tr>\n",
              "      <th>42</th>\n",
              "      <td>Shallow</td>\n",
              "      <td>Lady Gaga</td>\n",
              "      <td>dance pop</td>\n",
              "      <td>2</td>\n",
              "    </tr>\n",
              "    <tr>\n",
              "      <th>30</th>\n",
              "      <td>Takeaway</td>\n",
              "      <td>The Chainsmokers</td>\n",
              "      <td>edm</td>\n",
              "      <td>2</td>\n",
              "    </tr>\n",
              "    <tr>\n",
              "      <th>27</th>\n",
              "      <td>It's You</td>\n",
              "      <td>Ali Gatie</td>\n",
              "      <td>canadian hip hop</td>\n",
              "      <td>2</td>\n",
              "    </tr>\n",
              "    <tr>\n",
              "      <th>11</th>\n",
              "      <td>Loco Contigo (feat. J. Balvin &amp; Tyga)</td>\n",
              "      <td>DJ Snake</td>\n",
              "      <td>dance pop</td>\n",
              "      <td>2</td>\n",
              "    </tr>\n",
              "    <tr>\n",
              "      <th>40</th>\n",
              "      <td>Higher Love</td>\n",
              "      <td>Kygo</td>\n",
              "      <td>edm</td>\n",
              "      <td>2</td>\n",
              "    </tr>\n",
              "    <tr>\n",
              "      <th>48</th>\n",
              "      <td>Call You Mine</td>\n",
              "      <td>The Chainsmokers</td>\n",
              "      <td>edm</td>\n",
              "      <td>2</td>\n",
              "    </tr>\n",
              "    <tr>\n",
              "      <th>7</th>\n",
              "      <td>How Do You Sleep?</td>\n",
              "      <td>Sam Smith</td>\n",
              "      <td>pop</td>\n",
              "      <td>2</td>\n",
              "    </tr>\n",
              "    <tr>\n",
              "      <th>15</th>\n",
              "      <td>No Guidance (feat. Drake)</td>\n",
              "      <td>Chris Brown</td>\n",
              "      <td>dance pop</td>\n",
              "      <td>2</td>\n",
              "    </tr>\n",
              "    <tr>\n",
              "      <th>14</th>\n",
              "      <td>Money In The Grave (Drake ft. Rick Ross)</td>\n",
              "      <td>Drake</td>\n",
              "      <td>canadian hip hop</td>\n",
              "      <td>2</td>\n",
              "    </tr>\n",
              "    <tr>\n",
              "      <th>45</th>\n",
              "      <td>One Thing Right</td>\n",
              "      <td>Marshmello</td>\n",
              "      <td>brostep</td>\n",
              "      <td>2</td>\n",
              "    </tr>\n",
              "    <tr>\n",
              "      <th>10</th>\n",
              "      <td>Callaita</td>\n",
              "      <td>Bad Bunny</td>\n",
              "      <td>reggaeton</td>\n",
              "      <td>3</td>\n",
              "    </tr>\n",
              "    <tr>\n",
              "      <th>46</th>\n",
              "      <td>Te Robaré</td>\n",
              "      <td>Nicky Jam</td>\n",
              "      <td>latin</td>\n",
              "      <td>3</td>\n",
              "    </tr>\n",
              "    <tr>\n",
              "      <th>16</th>\n",
              "      <td>LA CANCIÓN</td>\n",
              "      <td>J Balvin</td>\n",
              "      <td>latin</td>\n",
              "      <td>3</td>\n",
              "    </tr>\n",
              "    <tr>\n",
              "      <th>36</th>\n",
              "      <td>Otro Trago</td>\n",
              "      <td>Sech</td>\n",
              "      <td>panamanian pop</td>\n",
              "      <td>3</td>\n",
              "    </tr>\n",
              "    <tr>\n",
              "      <th>2</th>\n",
              "      <td>boyfriend (with Social House)</td>\n",
              "      <td>Ariana Grande</td>\n",
              "      <td>dance pop</td>\n",
              "      <td>3</td>\n",
              "    </tr>\n",
              "    <tr>\n",
              "      <th>13</th>\n",
              "      <td>Otro Trago - Remix</td>\n",
              "      <td>Sech</td>\n",
              "      <td>panamanian pop</td>\n",
              "      <td>3</td>\n",
              "    </tr>\n",
              "    <tr>\n",
              "      <th>44</th>\n",
              "      <td>Con Altura</td>\n",
              "      <td>ROSALÍA</td>\n",
              "      <td>r&amp;b en espanol</td>\n",
              "      <td>4</td>\n",
              "    </tr>\n",
              "    <tr>\n",
              "      <th>47</th>\n",
              "      <td>Happier</td>\n",
              "      <td>Marshmello</td>\n",
              "      <td>brostep</td>\n",
              "      <td>4</td>\n",
              "    </tr>\n",
              "    <tr>\n",
              "      <th>41</th>\n",
              "      <td>You Need To Calm Down</td>\n",
              "      <td>Taylor Swift</td>\n",
              "      <td>dance pop</td>\n",
              "      <td>4</td>\n",
              "    </tr>\n",
              "    <tr>\n",
              "      <th>0</th>\n",
              "      <td>Señorita</td>\n",
              "      <td>Shawn Mendes</td>\n",
              "      <td>canadian pop</td>\n",
              "      <td>4</td>\n",
              "    </tr>\n",
              "    <tr>\n",
              "      <th>38</th>\n",
              "      <td>Sucker</td>\n",
              "      <td>Jonas Brothers</td>\n",
              "      <td>boy band</td>\n",
              "      <td>4</td>\n",
              "    </tr>\n",
              "    <tr>\n",
              "      <th>32</th>\n",
              "      <td>0.958333333333333</td>\n",
              "      <td>Maluma</td>\n",
              "      <td>reggaeton</td>\n",
              "      <td>4</td>\n",
              "    </tr>\n",
              "    <tr>\n",
              "      <th>29</th>\n",
              "      <td>QUE PRETENDES</td>\n",
              "      <td>J Balvin</td>\n",
              "      <td>latin</td>\n",
              "      <td>4</td>\n",
              "    </tr>\n",
              "    <tr>\n",
              "      <th>28</th>\n",
              "      <td>Con Calma</td>\n",
              "      <td>Daddy Yankee</td>\n",
              "      <td>latin</td>\n",
              "      <td>4</td>\n",
              "    </tr>\n",
              "    <tr>\n",
              "      <th>25</th>\n",
              "      <td>If I Can't Have You</td>\n",
              "      <td>Shawn Mendes</td>\n",
              "      <td>canadian pop</td>\n",
              "      <td>4</td>\n",
              "    </tr>\n",
              "    <tr>\n",
              "      <th>17</th>\n",
              "      <td>Sunflower - Spider-Man: Into the Spider-Verse</td>\n",
              "      <td>Post Malone</td>\n",
              "      <td>dfw rap</td>\n",
              "      <td>4</td>\n",
              "    </tr>\n",
              "    <tr>\n",
              "      <th>5</th>\n",
              "      <td>I Don't Care (with Justin Bieber)</td>\n",
              "      <td>Ed Sheeran</td>\n",
              "      <td>pop</td>\n",
              "      <td>4</td>\n",
              "    </tr>\n",
              "    <tr>\n",
              "      <th>39</th>\n",
              "      <td>fuck, i'm lonely (with Anne-Marie) - from 13 ...</td>\n",
              "      <td>Lauv</td>\n",
              "      <td>dance pop</td>\n",
              "      <td>4</td>\n",
              "    </tr>\n",
              "    <tr>\n",
              "      <th>49</th>\n",
              "      <td>Cross Me (feat. Chance the Rapper &amp; PnB Rock)</td>\n",
              "      <td>Ed Sheeran</td>\n",
              "      <td>pop</td>\n",
              "      <td>4</td>\n",
              "    </tr>\n",
              "  </tbody>\n",
              "</table>\n",
              "</div>"
            ],
            "text/plain": [
              "                                           track_name  ... clusters\n",
              "1                                               China  ...        0\n",
              "23                                    Soltera - Remix  ...        0\n",
              "22                               No Me Conoce - Remix  ...        0\n",
              "24                       bad guy (with Justin Bieber)  ...        1\n",
              "37                     Antisocial (with Travis Scott)  ...        1\n",
              "35  Summer Days (feat. Macklemore & Patrick Stump ...  ...        1\n",
              "31                                            7 rings  ...        1\n",
              "43                                               Talk  ...        1\n",
              "21                                             Panini  ...        1\n",
              "20                                Piece Of Your Heart  ...        1\n",
              "18                                             Lalala  ...        1\n",
              "12                                  Someone You Loved  ...        1\n",
              "19                                        Truth Hurts  ...        1\n",
              "4                         Goodbyes (Feat. Young Thug)  ...        1\n",
              "9                                             bad guy  ...        1\n",
              "8                               Old Town Road - Remix  ...        1\n",
              "6                                              Ransom  ...        1\n",
              "26                                       Dance Monkey  ...        2\n",
              "3                     Beautiful People (feat. Khalid)  ...        2\n",
              "34                                  Never Really Over  ...        2\n",
              "33          The London (feat. J. Cole & Travis Scott)  ...        2\n",
              "42                                            Shallow  ...        2\n",
              "30                                           Takeaway  ...        2\n",
              "27                                           It's You  ...        2\n",
              "11              Loco Contigo (feat. J. Balvin & Tyga)  ...        2\n",
              "40                                        Higher Love  ...        2\n",
              "48                                      Call You Mine  ...        2\n",
              "7                                   How Do You Sleep?  ...        2\n",
              "15                          No Guidance (feat. Drake)  ...        2\n",
              "14           Money In The Grave (Drake ft. Rick Ross)  ...        2\n",
              "45                                    One Thing Right  ...        2\n",
              "10                                           Callaita  ...        3\n",
              "46                                          Te Robaré  ...        3\n",
              "16                                         LA CANCIÓN  ...        3\n",
              "36                                         Otro Trago  ...        3\n",
              "2                       boyfriend (with Social House)  ...        3\n",
              "13                                 Otro Trago - Remix  ...        3\n",
              "44                                         Con Altura  ...        4\n",
              "47                                            Happier  ...        4\n",
              "41                              You Need To Calm Down  ...        4\n",
              "0                                            Señorita  ...        4\n",
              "38                                             Sucker  ...        4\n",
              "32                                  0.958333333333333  ...        4\n",
              "29                                      QUE PRETENDES  ...        4\n",
              "28                                          Con Calma  ...        4\n",
              "25                                If I Can't Have You  ...        4\n",
              "17      Sunflower - Spider-Man: Into the Spider-Verse  ...        4\n",
              "5                   I Don't Care (with Justin Bieber)  ...        4\n",
              "39  fuck, i'm lonely (with Anne-Marie) - from 13 ...  ...        4\n",
              "49      Cross Me (feat. Chance the Rapper & PnB Rock)  ...        4\n",
              "\n",
              "[50 rows x 4 columns]"
            ]
          },
          "metadata": {
            "tags": []
          },
          "execution_count": 71
        }
      ]
    },
    {
      "cell_type": "code",
      "metadata": {
        "colab": {
          "base_uri": "https://localhost:8080/",
          "height": 204
        },
        "id": "7gXNS5KJsMFc",
        "outputId": "97856a63-7a20-4537-9385-db933f4355f1"
      },
      "source": [
        "#generating a list of 5 similar songs for each cluster\n",
        "\n",
        "cluster_1 = df2.loc[df2.clusters==0] #predominantly pop songs\n",
        "cluster_2 = df2.loc[df2.clusters==1].sample(n=5, random_state=1) #also pop\n",
        "cluster_3 = df2.loc[df2.clusters==2].sample(n=5, random_state=2)\n",
        "cluster_4 = df2.loc[df2.clusters==3].sample(n=5, random_state=2) #latin songs\n",
        "cluster_4 = df2.loc[df2.clusters==4].sample(n=5, random_state=2)\n",
        "cluster_4"
      ],
      "execution_count": null,
      "outputs": [
        {
          "output_type": "execute_result",
          "data": {
            "text/html": [
              "<div>\n",
              "<style scoped>\n",
              "    .dataframe tbody tr th:only-of-type {\n",
              "        vertical-align: middle;\n",
              "    }\n",
              "\n",
              "    .dataframe tbody tr th {\n",
              "        vertical-align: top;\n",
              "    }\n",
              "\n",
              "    .dataframe thead th {\n",
              "        text-align: right;\n",
              "    }\n",
              "</style>\n",
              "<table border=\"1\" class=\"dataframe\">\n",
              "  <thead>\n",
              "    <tr style=\"text-align: right;\">\n",
              "      <th></th>\n",
              "      <th>track_name</th>\n",
              "      <th>artist_name</th>\n",
              "      <th>genre</th>\n",
              "      <th>clusters</th>\n",
              "    </tr>\n",
              "  </thead>\n",
              "  <tbody>\n",
              "    <tr>\n",
              "      <th>38</th>\n",
              "      <td>Sucker</td>\n",
              "      <td>Jonas Brothers</td>\n",
              "      <td>boy band</td>\n",
              "      <td>4</td>\n",
              "    </tr>\n",
              "    <tr>\n",
              "      <th>44</th>\n",
              "      <td>Con Altura</td>\n",
              "      <td>ROSALÍA</td>\n",
              "      <td>r&amp;b en espanol</td>\n",
              "      <td>4</td>\n",
              "    </tr>\n",
              "    <tr>\n",
              "      <th>5</th>\n",
              "      <td>I Don't Care (with Justin Bieber)</td>\n",
              "      <td>Ed Sheeran</td>\n",
              "      <td>pop</td>\n",
              "      <td>4</td>\n",
              "    </tr>\n",
              "    <tr>\n",
              "      <th>32</th>\n",
              "      <td>0.958333333333333</td>\n",
              "      <td>Maluma</td>\n",
              "      <td>reggaeton</td>\n",
              "      <td>4</td>\n",
              "    </tr>\n",
              "    <tr>\n",
              "      <th>0</th>\n",
              "      <td>Señorita</td>\n",
              "      <td>Shawn Mendes</td>\n",
              "      <td>canadian pop</td>\n",
              "      <td>4</td>\n",
              "    </tr>\n",
              "  </tbody>\n",
              "</table>\n",
              "</div>"
            ],
            "text/plain": [
              "                           track_name     artist_name           genre  clusters\n",
              "38                             Sucker  Jonas Brothers        boy band         4\n",
              "44                         Con Altura         ROSALÍA  r&b en espanol         4\n",
              "5   I Don't Care (with Justin Bieber)      Ed Sheeran             pop         4\n",
              "32                  0.958333333333333          Maluma       reggaeton         4\n",
              "0                            Señorita    Shawn Mendes    canadian pop         4"
            ]
          },
          "metadata": {
            "tags": []
          },
          "execution_count": 77
        }
      ]
    },
    {
      "cell_type": "code",
      "metadata": {
        "colab": {
          "base_uri": "https://localhost:8080/",
          "height": 462
        },
        "id": "pEKvirdby9Up",
        "outputId": "04c17c1c-8708-4e25-9b9a-796b2adeebc0"
      },
      "source": [
        "df.iloc[[11, 0, 39, 17, 25], :]"
      ],
      "execution_count": null,
      "outputs": [
        {
          "output_type": "execute_result",
          "data": {
            "text/html": [
              "<div>\n",
              "<style scoped>\n",
              "    .dataframe tbody tr th:only-of-type {\n",
              "        vertical-align: middle;\n",
              "    }\n",
              "\n",
              "    .dataframe tbody tr th {\n",
              "        vertical-align: top;\n",
              "    }\n",
              "\n",
              "    .dataframe thead th {\n",
              "        text-align: right;\n",
              "    }\n",
              "</style>\n",
              "<table border=\"1\" class=\"dataframe\">\n",
              "  <thead>\n",
              "    <tr style=\"text-align: right;\">\n",
              "      <th></th>\n",
              "      <th>track_name</th>\n",
              "      <th>artist_name</th>\n",
              "      <th>genre</th>\n",
              "      <th>beats_per_minute</th>\n",
              "      <th>energy</th>\n",
              "      <th>danceability</th>\n",
              "      <th>loudness__db__</th>\n",
              "      <th>liveness</th>\n",
              "      <th>valence_</th>\n",
              "      <th>length_</th>\n",
              "      <th>acousticness__</th>\n",
              "      <th>speechiness_</th>\n",
              "      <th>popularity</th>\n",
              "      <th>genre_t</th>\n",
              "      <th>predicted</th>\n",
              "      <th>clusters</th>\n",
              "    </tr>\n",
              "  </thead>\n",
              "  <tbody>\n",
              "    <tr>\n",
              "      <th>11</th>\n",
              "      <td>Loco Contigo (feat. J. Balvin &amp; Tyga)</td>\n",
              "      <td>DJ Snake</td>\n",
              "      <td>dance pop</td>\n",
              "      <td>96</td>\n",
              "      <td>71</td>\n",
              "      <td>82</td>\n",
              "      <td>-4</td>\n",
              "      <td>15</td>\n",
              "      <td>38</td>\n",
              "      <td>185</td>\n",
              "      <td>28</td>\n",
              "      <td>7</td>\n",
              "      <td>86</td>\n",
              "      <td>8</td>\n",
              "      <td>8.092732</td>\n",
              "      <td>0</td>\n",
              "    </tr>\n",
              "    <tr>\n",
              "      <th>0</th>\n",
              "      <td>Señorita</td>\n",
              "      <td>Shawn Mendes</td>\n",
              "      <td>canadian pop</td>\n",
              "      <td>117</td>\n",
              "      <td>55</td>\n",
              "      <td>76</td>\n",
              "      <td>-6</td>\n",
              "      <td>8</td>\n",
              "      <td>75</td>\n",
              "      <td>191</td>\n",
              "      <td>4</td>\n",
              "      <td>3</td>\n",
              "      <td>79</td>\n",
              "      <td>6</td>\n",
              "      <td>7.357444</td>\n",
              "      <td>0</td>\n",
              "    </tr>\n",
              "    <tr>\n",
              "      <th>39</th>\n",
              "      <td>fuck, i'm lonely (with Anne-Marie) - from 13 ...</td>\n",
              "      <td>Lauv</td>\n",
              "      <td>dance pop</td>\n",
              "      <td>95</td>\n",
              "      <td>56</td>\n",
              "      <td>81</td>\n",
              "      <td>-6</td>\n",
              "      <td>6</td>\n",
              "      <td>68</td>\n",
              "      <td>199</td>\n",
              "      <td>48</td>\n",
              "      <td>7</td>\n",
              "      <td>78</td>\n",
              "      <td>8</td>\n",
              "      <td>7.390274</td>\n",
              "      <td>0</td>\n",
              "    </tr>\n",
              "    <tr>\n",
              "      <th>17</th>\n",
              "      <td>Sunflower - Spider-Man: Into the Spider-Verse</td>\n",
              "      <td>Post Malone</td>\n",
              "      <td>dfw rap</td>\n",
              "      <td>90</td>\n",
              "      <td>48</td>\n",
              "      <td>76</td>\n",
              "      <td>-6</td>\n",
              "      <td>7</td>\n",
              "      <td>91</td>\n",
              "      <td>158</td>\n",
              "      <td>56</td>\n",
              "      <td>5</td>\n",
              "      <td>91</td>\n",
              "      <td>9</td>\n",
              "      <td>11.206973</td>\n",
              "      <td>0</td>\n",
              "    </tr>\n",
              "    <tr>\n",
              "      <th>25</th>\n",
              "      <td>If I Can't Have You</td>\n",
              "      <td>Shawn Mendes</td>\n",
              "      <td>canadian pop</td>\n",
              "      <td>124</td>\n",
              "      <td>82</td>\n",
              "      <td>69</td>\n",
              "      <td>-4</td>\n",
              "      <td>13</td>\n",
              "      <td>87</td>\n",
              "      <td>191</td>\n",
              "      <td>49</td>\n",
              "      <td>6</td>\n",
              "      <td>70</td>\n",
              "      <td>6</td>\n",
              "      <td>6.499268</td>\n",
              "      <td>0</td>\n",
              "    </tr>\n",
              "  </tbody>\n",
              "</table>\n",
              "</div>"
            ],
            "text/plain": [
              "                                           track_name  ... clusters\n",
              "11              Loco Contigo (feat. J. Balvin & Tyga)  ...        0\n",
              "0                                            Señorita  ...        0\n",
              "39  fuck, i'm lonely (with Anne-Marie) - from 13 ...  ...        0\n",
              "17      Sunflower - Spider-Man: Into the Spider-Verse  ...        0\n",
              "25                                If I Can't Have You  ...        0\n",
              "\n",
              "[5 rows x 16 columns]"
            ]
          },
          "metadata": {
            "tags": []
          },
          "execution_count": 27
        }
      ]
    },
    {
      "cell_type": "markdown",
      "metadata": {
        "id": "AdorRDuDVrRu"
      },
      "source": [
        "## Evaluation Criteria"
      ]
    },
    {
      "cell_type": "markdown",
      "metadata": {
        "id": "mYTr0gtxVrRu"
      },
      "source": [
        "- Code quality\n",
        "- Adherence to the requirements\n",
        "- Correctness of applied methods"
      ]
    }
  ]
}